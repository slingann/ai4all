{
 "cells": [
  {
   "cell_type": "markdown",
   "id": "b28fc559",
   "metadata": {},
   "source": [
    "<a href=\"https://colab.research.google.com/github/dhroth/ai4all22/blob/main/2-molecule_generation.ipynb\" target=\"_parent\"><img src=\"https://colab.research.google.com/assets/colab-badge.svg\" alt=\"Open In Colab\"/></a>"
   ]
  },
  {
   "cell_type": "code",
   "execution_count": null,
   "id": "f144f95d",
   "metadata": {},
   "outputs": [],
   "source": [
    "# For Google CoLab to set everything up\n",
    "! git clone https://github.com/dhroth/ai4all22.git\n",
    "! git clone https://github.com/devalab/molgpt.git"
   ]
  },
  {
   "cell_type": "code",
   "execution_count": null,
   "id": "dc8027a9",
   "metadata": {},
   "outputs": [],
   "source": [
    "! pip install matplotlib\n",
    "! pip install rdkit\n",
    "! pip install torch\n",
    "! pip install dgl-cu113 dglgo -f https://data.dgl.ai/wheels/repo.html\n",
    "! pip install dgllife\n",
    "! pip install pandas"
   ]
  },
  {
   "cell_type": "code",
   "execution_count": 3,
   "id": "db0c47a4",
   "metadata": {},
   "outputs": [],
   "source": [
    "# import packages\n",
    "import matplotlib\n",
    "%matplotlib inline\n",
    "from matplotlib import pyplot as plt\n",
    "from rdkit import Chem\n",
    "from rdkit.Chem.Draw import IPythonConsole\n",
    "from rdkit.Chem import Draw\n",
    "import pandas as pd\n",
    "from rdkit.Chem.Descriptors import ExactMolWt\n",
    "from rdkit.Chem.Crippen import MolLogP\n",
    "from rdkit.Chem.QED import qed as rdkit_qed\n",
    "from utils import predict_bace, gpt_generate\n",
    "IPythonConsole.molSize = 300,300"
   ]
  },
  {
   "cell_type": "code",
   "execution_count": null,
   "id": "d1447113",
   "metadata": {},
   "outputs": [],
   "source": [
    "def mol_weight(smiles):\n",
    "    mol = Chem.MolFromSmiles(smiles)\n",
    "    return ExactMolWt(mol)\n",
    "\n",
    "def logp(smiles):\n",
    "    mol = Chem.MolFromSmiles(smiles)\n",
    "    return MolLogP(mol)\n",
    "\n",
    "def qed(smiles):\n",
    "    mol = Chem.MolFromSmiles(smiles)\n",
    "    return rdkit_qed(mol)"
   ]
  },
  {
   "cell_type": "markdown",
   "id": "27a997b4",
   "metadata": {},
   "source": [
    "## Generate Molecules with GPT and Visualize "
   ]
  },
  {
   "cell_type": "code",
   "execution_count": null,
   "id": "471f91da",
   "metadata": {},
   "outputs": [],
   "source": [
    "generated_smiles = gpt_generate(10)"
   ]
  },
  {
   "cell_type": "markdown",
   "id": "9a16cb6c",
   "metadata": {},
   "source": [
    "## Find Promising Molecules"
   ]
  },
  {
   "cell_type": "code",
   "execution_count": null,
   "id": "6a26ac0d",
   "metadata": {},
   "outputs": [],
   "source": [
    "# here are the criteria for promising molecules:\n",
    "#   * logp < 5\n",
    "#   * molecular weight < 500\n",
    "#   * QED > 0.6\n",
    "#   * predicted pIC50 as high as possible\n"
   ]
  },
  {
   "cell_type": "markdown",
   "id": "12354105",
   "metadata": {},
   "source": [
    "## Visualize the Molecules you Found"
   ]
  },
  {
   "cell_type": "code",
   "execution_count": null,
   "id": "972b0baf",
   "metadata": {},
   "outputs": [],
   "source": []
  },
  {
   "cell_type": "markdown",
   "id": "d25b2bbe",
   "metadata": {},
   "source": [
    "## Plot the best pIC50 as a function of number of molecules tested"
   ]
  },
  {
   "cell_type": "code",
   "execution_count": 9,
   "id": "e0f929dd",
   "metadata": {},
   "outputs": [],
   "source": [
    "# hint: to make plots, use plt.plot, from the matplotlib package"
   ]
  }
 ],
 "metadata": {
  "kernelspec": {
   "display_name": "Python 3",
   "language": "python",
   "name": "python3"
  },
  "language_info": {
   "codemirror_mode": {
    "name": "ipython",
    "version": 3
   },
   "file_extension": ".py",
   "mimetype": "text/x-python",
   "name": "python",
   "nbconvert_exporter": "python",
   "pygments_lexer": "ipython3",
   "version": "3.6.15"
  }
 },
 "nbformat": 4,
 "nbformat_minor": 5
}
