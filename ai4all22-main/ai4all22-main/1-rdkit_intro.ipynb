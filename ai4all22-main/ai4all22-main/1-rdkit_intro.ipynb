{
 "cells": [
  {
   "cell_type": "markdown",
   "id": "a96ad236",
   "metadata": {},
   "source": [
    "<a href=\"https://colab.research.google.com/github/dhroth/ai4all22/blob/main/1-rdkit_intro.ipynb\" target=\"_parent\"><img src=\"https://colab.research.google.com/assets/colab-badge.svg\" alt=\"Open In Colab\"/></a>"
   ]
  },
  {
   "cell_type": "markdown",
   "id": "2c6281d5",
   "metadata": {},
   "source": [
    "# Playing With RDKit"
   ]
  },
  {
   "cell_type": "code",
   "execution_count": null,
   "id": "75b711df",
   "metadata": {},
   "outputs": [],
   "source": [
    "# For Google CoLab to set everything up\n",
    "! git clone https://github.com/dhroth/ai4all22.git\n",
    "%cd ai4all22/\n",
    "%mkdir data"
   ]
  },
  {
   "cell_type": "code",
   "execution_count": null,
   "id": "0b212873",
   "metadata": {},
   "outputs": [],
   "source": [
    "! pip install matplotlib\n",
    "! pip install rdkit\n",
    "! pip install torch\n",
    "! pip install dgl-cu113 dglgo -f https://data.dgl.ai/wheels/repo.html\n",
    "! pip install dgllife\n",
    "! pip install pandas"
   ]
  },
  {
   "cell_type": "code",
   "execution_count": null,
   "id": "89818c6b",
   "metadata": {},
   "outputs": [],
   "source": [
    "# import packages\n",
    "%matplotlib inline\n",
    "from rdkit import Chem\n",
    "from rdkit.Chem.Draw import IPythonConsole\n",
    "from rdkit.Chem import Draw\n",
    "import pandas as pd\n",
    "IPythonConsole.molSize = 300,300"
   ]
  },
  {
   "cell_type": "code",
   "execution_count": null,
   "id": "cabf7022",
   "metadata": {},
   "outputs": [],
   "source": [
    "mol = Chem.MolFromSmiles(\"NC1=NC(COC1(C(F)(F)F)C)(C)C=1C=C(C=CC1F)NC(C1=NC=C(C=C1C)C#N)=O\")\n",
    "mol"
   ]
  },
  {
   "cell_type": "markdown",
   "id": "4bc777ad",
   "metadata": {},
   "source": [
    "## Create your own molecule!"
   ]
  },
  {
   "cell_type": "code",
   "execution_count": null,
   "id": "efcd6891",
   "metadata": {},
   "outputs": [],
   "source": []
  },
  {
   "cell_type": "markdown",
   "id": "ae47cf05",
   "metadata": {},
   "source": [
    "## Calculate Molecular Properties"
   ]
  },
  {
   "cell_type": "code",
   "execution_count": null,
   "id": "f7973052",
   "metadata": {},
   "outputs": [],
   "source": [
    "# to be a good drug, we want the molecular weight to be < ~500 Daltons\n",
    "def mol_weight(smiles):\n",
    "    # hint: use RDKit.Chem.Descriptors\n",
    "    return 0"
   ]
  },
  {
   "cell_type": "code",
   "execution_count": null,
   "id": "bffe891d",
   "metadata": {},
   "outputs": [],
   "source": [
    "def logp(smiles):\n",
    "    return 0"
   ]
  },
  {
   "cell_type": "code",
   "execution_count": null,
   "id": "aadfa84e",
   "metadata": {},
   "outputs": [],
   "source": [
    "def qed(smiles):\n",
    "    return 0"
   ]
  },
  {
   "cell_type": "markdown",
   "id": "c433b15e",
   "metadata": {},
   "source": [
    "## Predict Effectiveness at Blocking BACE"
   ]
  },
  {
   "cell_type": "code",
   "execution_count": null,
   "id": "309dc4aa",
   "metadata": {},
   "outputs": [],
   "source": [
    "from utils import predict_bace\n",
    "predict_bace(\"CCC\")"
   ]
  },
  {
   "cell_type": "markdown",
   "id": "b4f6ca28",
   "metadata": {},
   "source": [
    "## Examine Dataset"
   ]
  },
  {
   "cell_type": "code",
   "execution_count": null,
   "id": "09337cca",
   "metadata": {},
   "outputs": [],
   "source": [
    "dataset = pd.read_csv(\"bace.csv\")\n",
    "smiles = dataset[\"mol\"]"
   ]
  },
  {
   "cell_type": "markdown",
   "id": "4fe5c47a",
   "metadata": {},
   "source": [
    "## Find Molecules that might be Good Drugs"
   ]
  },
  {
   "cell_type": "code",
   "execution_count": null,
   "id": "a21e2c26",
   "metadata": {},
   "outputs": [],
   "source": []
  }
 ],
 "metadata": {
  "kernelspec": {
   "display_name": "Python 3 (ipykernel)",
   "language": "python",
   "name": "python3"
  },
  "language_info": {
   "codemirror_mode": {
    "name": "ipython",
    "version": 3
   },
   "file_extension": ".py",
   "mimetype": "text/x-python",
   "name": "python",
   "nbconvert_exporter": "python",
   "pygments_lexer": "ipython3",
   "version": "3.10.5"
  }
 },
 "nbformat": 4,
 "nbformat_minor": 5
}
